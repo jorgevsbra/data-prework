{
 "cells": [
  {
   "cell_type": "markdown",
   "metadata": {},
   "source": [
    "<img src=\"https://bit.ly/2VnXWr2\" width=\"100\" align=\"left\">"
   ]
  },
  {
   "cell_type": "markdown",
   "metadata": {},
   "source": [
    "# Rock, Paper & Scissors\n",
    "\n",
    "Let's play the famous game against our computer. You can check the rules [here](https://en.wikipedia.org/wiki/Rock%E2%80%93paper%E2%80%93scissors). \n",
    "\n",
    "## Task\n",
    "Create a program that imitates the playability of the well known game of rock, paper, scissors. Follow the guidelines provided.\n",
    "\n",
    "## Tools\n",
    "1. Loop: **for/while**\n",
    "2. Functions: **input(), print()...**\n",
    "3. Conditional statements: **if, elif, else**\n",
    "4. Definition of functions. Modular programming\n",
    "5. Import modules\n",
    "\n",
    "**To solve this challenge, the use of functions is recommended.**\n",
    "\n",
    "#### 1. Import the choice function of the random module."
   ]
  },
  {
   "cell_type": "code",
   "execution_count": 4,
   "metadata": {},
   "outputs": [
    {
     "name": "stdout",
     "output_type": "stream",
     "text": [
      "<module 'random' from '/snap/jupyter/6/lib/python3.7/random.py'>\n"
     ]
    }
   ],
   "source": [
    "import random\n",
    "print(random)"
   ]
  },
  {
   "cell_type": "markdown",
   "metadata": {},
   "source": [
    "#### 2. Create a list that includes the 3 possible gesture options of the game: 'rock', 'paper' or 'scissors'. Store the list in a variable called `gestures`."
   ]
  },
  {
   "cell_type": "code",
   "execution_count": 3,
   "metadata": {},
   "outputs": [
    {
     "name": "stdout",
     "output_type": "stream",
     "text": [
      "['rock', 'paper', 'scissors']\n"
     ]
    }
   ],
   "source": [
    "gestures = ['rock', 'paper', 'scissors']\n",
    "print(gestures)"
   ]
  },
  {
   "cell_type": "markdown",
   "metadata": {},
   "source": [
    "#### 3. Create a variable called `n_rounds` to store the maximum number of rounds to play in a game. \n",
    "Remember that the number of rounds must be odd: 1, 3, 5, ..."
   ]
  },
  {
   "cell_type": "code",
   "execution_count": 2,
   "metadata": {},
   "outputs": [
    {
     "name": "stdout",
     "output_type": "stream",
     "text": [
      "[1, 3, 5, 7, 9, 11, 13, 15, 17, 19, 21, 23, 25, 27, 29, 31, 33, 35, 37, 39, 41, 43, 45, 47, 49, 51, 53, 55, 57, 59, 61, 63, 65, 67, 69, 71, 73, 75, 77, 79, 81, 83, 85, 87, 89, 91, 93, 95, 97, 99]\n"
     ]
    }
   ],
   "source": [
    "n_rounds = list(range(100))[1::2]\n",
    "print(n_rounds)"
   ]
  },
  {
   "cell_type": "markdown",
   "metadata": {},
   "source": [
    "#### 4. Create a variable called `rounds_to_win` to store the number of rounds that a player must win to win the game.\n",
    "**Hint**: the value stored in `rounds_to_win` depends on the value of `n_rounds`. "
   ]
  },
  {
   "cell_type": "code",
   "execution_count": null,
   "metadata": {},
   "outputs": [],
   "source": [
    "rounds_to_win = [(0, 1), ()]"
   ]
  },
  {
   "cell_type": "markdown",
   "metadata": {},
   "source": [
    "#### 5. Create two variables to store the number of rounds that the computer and the player have won. Call these variables `cpu_score` and `player_score`."
   ]
  },
  {
   "cell_type": "code",
   "execution_count": null,
   "metadata": {},
   "outputs": [],
   "source": [
    "cpu_score = [\"computer_wins\"]\n",
    "\n",
    "player_score = [\"user_wins\"]"
   ]
  },
  {
   "cell_type": "markdown",
   "metadata": {},
   "source": [
    "#### 6. Define a function that randomly returns one of the 3 gesture options.\n",
    "You will use this function to simulate the gesture choice of the computer. "
   ]
  },
  {
   "cell_type": "code",
   "execution_count": null,
   "metadata": {},
   "outputs": [],
   "source": [
    "import random\n",
    "\n",
    "number = random.randint(1,3)\n",
    "\n",
    "if number == 1:\n",
    "    chosen1 = \"rock\"\n",
    "elif number == 2:\n",
    "    chosen1 = \"paper\"\n",
    "else:\n",
    "    chosen1 = \"scissors\"\n",
    "\n",
    "chosen2 = input(\"rock, paper or scissors? (Quit ends):\")\n",
    "\n",
    "def choice(chosen1, chosen2):\n",
    "    if (chosen1 == \"paper\" and chosen2==\"paper\"):\n",
    "        print(\"You chose: \", chosen2)\n",
    "        print(\"Computer chose: \", chosen1)\n",
    "        print(\"You LOSE!\")\n",
    "    elif chosen1 == chosen2:\n",
    "        print(\"You chose: \", chosen2)\n",
    "        print(\"Computer chose: \", chosen1)\n",
    "        print(\"It is a tie!\")\n",
    "    elif (chosen1 == \"rock\" and chosen2==\"scissors\"):\n",
    "        print(\"You chose: \", chosen2)\n",
    "        print(\"Computer chose: \", chosen1)\n",
    "        print(\"You LOSE!\")\n",
    "    elif (chosen2 == \"rock\" and chosen1==\"scissors\"):\n",
    "        print(\"You chose: \", chosen2)\n",
    "        print(\"Computer chose: \", chosen1)\n",
    "        print(\"You WIN!\")\n",
    "    elif (chosen1 == \"paper\" and chosen2==\"rock\"):\n",
    "        print(\"You chose: \", chosen2)\n",
    "        print(\"Computer chose: \", chosen1)\n",
    "        print(\"You LOSE!\")\n",
    "    elif (chosen2 == \"paper\" and chosen1==\"rock\"):\n",
    "        print(\"You chose: \", chosen2)\n",
    "        print(\"Computer chose: \", chosen1)\n",
    "        print(\"You WIN!\")\n",
    "    elif (chosen1 == \"scissors\" and chosen2==\"paper\"):\n",
    "        print(\"You chose: \", chosen2)\n",
    "        print(\"Computer chose: \", chosen1)\n",
    "        print(\"You LOSE!\")\n",
    "    elif (chosen2 == \"scissors\" and chosen1==\"paper\"):\n",
    "        print(\"You chose: \", chosen2)\n",
    "        print(\"Computer chose: \", chosen1)\n",
    "        print(\"You WIN!\")\n",
    "    elif chosen2 ==\"Quit\":\n",
    "        quit()\n",
    "\n",
    "while chosen2 != \"Quit\":\n",
    "    choice(chosen1, chosen2)\n",
    "    chosen2 = input(\"rock, paper or scissors? (Quit ends):\")"
   ]
  },
  {
   "cell_type": "markdown",
   "metadata": {},
   "source": [
    "#### 7. Define a function that asks the player which is the gesture he or she wants to show: 'rock', 'paper' or 'scissors'.\n",
    "The player should only be allowed to choose one of the 3 gesture options. If the player's choice is not rock, paper or scissors, keep asking until it is."
   ]
  },
  {
   "cell_type": "code",
   "execution_count": null,
   "metadata": {},
   "outputs": [],
   "source": [
    "def main():\n",
    "while True:\n",
    "    userRockCt = 0\n",
    "    userPaperCt = 0\n",
    "    userScissorsCt = 0\n",
    "    compWinCt = 0\n",
    "    userWinCt = 0\n",
    "    drawCt = 0\n",
    "    \n",
    "    comp_choice = get_comp_choice()\n",
    "    \n",
    "    user_choice = input(\"Please enter from the menue: \\n\"\n",
    "                        \"r for rock,\"\n",
    "                        \"p for paper\"\n",
    "                        \"s for scissors\"\n",
    "                        \"q to quit\")"
   ]
  },
  {
   "cell_type": "markdown",
   "metadata": {},
   "source": [
    "#### 8. Define a function that checks who won a round. \n",
    "The function should return 0 if there is a tie, 1 if the computer wins and 2 if the player wins."
   ]
  },
  {
   "cell_type": "code",
   "execution_count": null,
   "metadata": {},
   "outputs": [],
   "source": [
    "import random\n",
    "\n",
    "def display_intro():\n",
    "    print(\"Welcome to Rock, Paper and Scissors Game!\")\n",
    "    play_game = input(\"Would you like to play with me?\\n\"\n",
    "                  \"y/n\").lower()\n",
    "    if play_game == \"y\" or play_game == \"yes\" or play_game == \"Y\":\n",
    "        print(\"Let\\'s start playing!\")\n",
    "        get_comp_choice()\n",
    "    elif play_game == \"n\" or play_game == \"no\" or play_game == \"N\":\n",
    "        print(\"Thanks for playing\")\n",
    "        print(\"Computer won\", compWinCt, \"times.\")\"\" \\\n",
    "        print(\"User won\", userWinCt, \"times.\")\n",
    "        print(\"Draw games count is: \",drawCt)\n",
    "        print(\"User picked Rock\", userRockCt, \"times.\")\n",
    "        print(\"User picked Paper\", userPaperCt, \"times.\")\n",
    "        print(\"User picked Scissors\", userScissors, \"times.\")\n",
    "        quit()\n",
    "    else:\n",
    "        print(\"That's now a valid choice. Please try again!\")\n",
    "    display_intro()"
   ]
  },
  {
   "cell_type": "markdown",
   "metadata": {},
   "source": [
    "#### 9. Define a function that prints the choice of the computer, the choice of the player and a message that announces who won the current round. \n",
    "You should also use this function to update the variables that count the number of rounds that the computer and the player have won. The score of the winner increases by one point. If there is a tie, the score does not increase."
   ]
  },
  {
   "cell_type": "code",
   "execution_count": null,
   "metadata": {},
   "outputs": [],
   "source": [
    "def main():\n",
    "while True:\n",
    "    userRockCt = 0\n",
    "    userPaperCt = 0\n",
    "    userScissorsCt = 0\n",
    "    compWinCt = 0\n",
    "    userWinCt = 0\n",
    "    drawCt = 0\n",
    "    \n",
    "    comp_choice = get_comp_choice()\n",
    "    \n",
    "    user_choice = input(\"Please enter from the menue: \\n\"\n",
    "                        \"r for rock,\"\n",
    "                        \"p for paper\"\n",
    "                        \"s for scissors\"\n",
    "                        \"q to quit\")\n",
    "\n",
    "    \n",
    "    while comp_choice == \"r\":\n",
    "        if user_choice == \"r\":\n",
    "            print(\"This is a DRAW. You chose Rock and Computer chose Rock.\")\n",
    "            userRockCt += 1\n",
    "            drawCt += 1\n",
    "        elif user_choice == \"p\":\n",
    "            print(\"YOU WIN. You chose Paper and Computer chose Rock. Paper covers Rock.\")\n",
    "            userPaperCt += 1\n",
    "            userWinCt += 1\n",
    "        elif user_choice == \"s\":\n",
    "            print(\"YOU LOSE. You chose Scissors and Computer chose Rock. Rock breaks Scissors.\")\n",
    "            userScissorsCt += 1\n",
    "            compWinCt += 1\n",
    "        else:\n",
    "            print(\"Try again\")\n",
    "        display_intro()\n",
    "\n",
    "    while comp_choice == \"p\":\n",
    "        if user_choice == \"r\":\n",
    "            print(\"YOU LOSE. You chose Rock and Computer chose Paper. Paper covers Rock.\")\n",
    "            userRockCt += 1\n",
    "            compWinCt += 1\n",
    "        elif user_choice == \"p\":\n",
    "            print(\"This is a DRAW. You chose Rock and Computer chose Rock.\")\n",
    "            userPaperCt += 1\n",
    "            drawCt += 1\n",
    "        elif user_choice == \"s\":\n",
    "            print(\"YOU WIN. You chose Scissors and Computer chose Paper. Scissors cut Paper.\")\n",
    "            userScissorsCt += 1\n",
    "            userWinCt += 1\n",
    "        display_intro()\n",
    "\n",
    "    while comp_choice == \"s\":\n",
    "        if user_choice == \"r\":\n",
    "            print(\"YOU WIN. You chose Rock and Computer chose Scissors. Rock breaks Scissors.\")\n",
    "            userRockCt += 1\n",
    "            userWinCt += 1\n",
    "        elif user_choice == \"p\":\n",
    "            print(\"YOU LOSE. You chose Paper and Computer chose Scissors. Scissors cut Paper.\")\n",
    "            userPaperCt += 1\n",
    "            compWinCt += 1\n",
    "        elif user_choice == \"s\":\n",
    "            print(\"This is a DRAW. You chose Scissors and Computer chose Scissors.\")\n",
    "            userScissorsCt += 1\n",
    "            drawCt += 1\n",
    "        display_intro()\n",
    "\n",
    "\n",
    "main()"
   ]
  },
  {
   "cell_type": "markdown",
   "metadata": {},
   "source": [
    "#### 10. Now it's time to code the execution of the game using the functions and variables you defined above. \n",
    "\n",
    "First, create a loop structure that repeats while no player reaches the minimum score necessary to win and the number of rounds is less than the maximum number of rounds to play in a game.  \n",
    "\n",
    "Inside the loop, use the functions and variables above to create the execution of a round: ask for the player's choice, generate the random choice of the computer, show the round results, update the scores, etc. "
   ]
  },
  {
   "cell_type": "code",
   "execution_count": null,
   "metadata": {},
   "outputs": [],
   "source": [
    "import random\n",
    "\n",
    "def display_intro():\n",
    "    print(\"Welcome to Rock, Paper and Scissors Game!\")\n",
    "    play_game = input(\"Would you like to play with me?\\n\"\n",
    "                  \"y/n\").lower()\n",
    "    if play_game == \"y\" or play_game == \"yes\" or play_game == \"Y\":\n",
    "        print(\"Let\\'s start playing!\")\n",
    "        get_comp_choice()\n",
    "    elif play_game == \"n\" or play_game == \"no\" or play_game == \"N\":\n",
    "        print(\"Thanks for playing\")\n",
    "        print(\"Computer won\", compWinCt, \"times.\")\"\" \\\n",
    "        print(\"User won\", userWinCt, \"times.\")\n",
    "        print(\"Draw games count is: \",drawCt)\n",
    "        print(\"User picked Rock\", userRockCt, \"times.\")\n",
    "        print(\"User picked Paper\", userPaperCt, \"times.\")\n",
    "        print(\"User picked Scissors\", userScissors, \"times.\")\n",
    "        quit()\n",
    "    else:\n",
    "        print(\"That's now a valid choice. Please try again!\")\n",
    "    display_intro()\n",
    "\n",
    "def get_random_choice():\n",
    "    comp_choice = random.randint(1, 3)\n",
    "    if comp_choice == 1:\n",
    "        comp_choice = \"r\"\n",
    "    elif comp_choice == 2:\n",
    "        comp_choice = \"p\"\n",
    "    elif comp_choice == 3:\n",
    "        comp_choice = \"s\"\n",
    "    return comp_choice\n",
    "\n",
    "\n",
    "def get_comp_choice():\n",
    "    if userRockCt == 0 and userPaperCt == 0 and userScissorsCt == 0:\n",
    "        return get_random_choice()\n",
    "    else:\n",
    "        if (userRockCt > userPaperCt) and (userRockCt > userScissorsCt):\n",
    "           return comp_choice == \"r\"\n",
    "        elif (userPaperCt > userRockCt) and (userPaperCt > userScissorsCt):\n",
    "            return comp_choice == \"p\"\n",
    "        elif (userScissorsCt > userPaperCt) and (userScissorsCt > userRockCt):\n",
    "            return comp_choice == \"s\"\n",
    "\n",
    "def main():\n",
    "while True:\n",
    "    \n",
    "    userRockCt = 0\n",
    "    userPaperCt = 0\n",
    "    userScissorsCt = 0\n",
    "    compWinCt = 0\n",
    "    userWinCt = 0\n",
    "    drawCt = 0\n",
    "    \n",
    "    comp_choice = get_comp_choice()\n",
    "    \n",
    "    user_choice = input(\"Please enter from the menue: \\n\"\n",
    "                        \"r for rock,\"\n",
    "                        \"p for paper\"\n",
    "                        \"s for scissors\"\n",
    "                        \"q to quit\")\n",
    "\n",
    "    while comp_choice == \"r\":\n",
    "        if user_choice == \"r\":\n",
    "            print(\"This is a DRAW. You chose Rock and Computer chose Rock.\")\n",
    "            userRockCt += 1\n",
    "            drawCt += 1\n",
    "        elif user_choice == \"p\":\n",
    "            print(\"YOU WIN. You chose Paper and Computer chose Rock. Paper covers Rock.\")\n",
    "            userPaperCt += 1\n",
    "            userWinCt += 1\n",
    "        elif user_choice == \"s\":\n",
    "            print(\"YOU LOSE. You chose Scissors and Computer chose Rock. Rock breaks Scissors.\")\n",
    "            userScissorsCt += 1\n",
    "            compWinCt += 1\n",
    "        else:\n",
    "            print(\"Try again\")\n",
    "        display_intro()\n",
    "\n",
    "    while comp_choice == \"p\":\n",
    "        if user_choice == \"r\":\n",
    "            print(\"YOU LOSE. You chose Rock and Computer chose Paper. Paper covers Rock.\")\n",
    "            userRockCt += 1\n",
    "            compWinCt += 1\n",
    "        elif user_choice == \"p\":\n",
    "            print(\"This is a DRAW. You chose Rock and Computer chose Rock.\")\n",
    "            userPaperCt += 1\n",
    "            drawCt += 1\n",
    "        elif user_choice == \"s\":\n",
    "            print(\"YOU WIN. You chose Scissors and Computer chose Paper. Scissors cut Paper.\")\n",
    "            userScissorsCt += 1\n",
    "            userWinCt += 1\n",
    "        display_intro()\n",
    "\n",
    "    while comp_choice == \"s\":\n",
    "        if user_choice == \"r\":\n",
    "            print(\"YOU WIN. You chose Rock and Computer chose Scissors. Rock breaks Scissors.\")\n",
    "            userRockCt += 1\n",
    "            userWinCt += 1\n",
    "        elif user_choice == \"p\":\n",
    "            print(\"YOU LOSE. You chose Paper and Computer chose Scissors. Scissors cut Paper.\")\n",
    "            userPaperCt += 1\n",
    "            compWinCt += 1\n",
    "        elif user_choice == \"s\":\n",
    "            print(\"This is a DRAW. You chose Scissors and Computer chose Scissors.\")\n",
    "            userScissorsCt += 1\n",
    "            drawCt += 1\n",
    "        display_intro()"
   ]
  },
  {
   "cell_type": "markdown",
   "metadata": {},
   "source": [
    "#### 11. Print the winner of the game based on who won more rounds.\n",
    "Remember that the game might be tied. "
   ]
  },
  {
   "cell_type": "code",
   "execution_count": null,
   "metadata": {},
   "outputs": [],
   "source": [
    "def determine_winner(user_action, computer_action):\n",
    "    if user_action == computer_action:\n",
    "        print(f\"Both players selected {user_action.name}. It's a tie!\")\n",
    "    elif user_action == Action.Rock:\n",
    "        if computer_action == Action.Scissors:\n",
    "            print(\"Rock smashes scissors! You win!\")\n",
    "        else:\n",
    "            print(\"Paper covers rock! You lose.\")\n",
    "    elif user_action == Action.Paper:\n",
    "        if computer_action == Action.Rock:\n",
    "            print(\"Paper covers rock! You win!\")\n",
    "        else:\n",
    "            print(\"Scissors cuts paper! You lose.\")\n",
    "    elif user_action == Action.Scissors:\n",
    "        if computer_action == Action.Paper:\n",
    "            print(\"Scissors cuts paper! You win!\")\n",
    "        else:\n",
    "            print(\"Rock smashes scissors! You lose.\")\n",
    "            print(determine_winner)\n",
    "    \n",
    "class Action(IntEnum):\n",
    "    Rock = 0\n",
    "    Paper = 1\n",
    "    Scissors = 2\n",
    "    \n",
    "victories = {\n",
    "    Action.Scissors: [Action.Rock, Action.Paper],\n",
    "    Action.Paper: [Action.Scissors, Action.Rock],\n",
    "    Action.Rock: [Action.Paper, Action.Scissors],\n",
    "}"
   ]
  },
  {
   "cell_type": "markdown",
   "metadata": {},
   "source": [
    "# Bonus: Rock, Paper, Scissors, Lizard & Spock\n",
    "![](images/rpsls.jpg)\n",
    "\n",
    "In this challenge, you need to improve the previous game by adding two new options. To know more about the rules of the improved version of rock, paper, scissors, check this [link](http://www.samkass.com/theories/RPSSL.html). \n",
    "\n",
    "In addition, you will also need to improve how the game interacts with the player: the number of rounds to play, which must be an odd number, will be requested to the user until a valid number is entered. Define a new function to make that request.\n",
    "\n",
    "**Hint**: Try to reuse the code that you already coded in the previous challenge. If your code is efficient, this bonus will only consist of simple modifications to the original game."
   ]
  },
  {
   "cell_type": "code",
   "execution_count": null,
   "metadata": {},
   "outputs": [],
   "source": []
  }
 ],
 "metadata": {
  "kernelspec": {
   "display_name": "Python 3",
   "language": "python",
   "name": "python3"
  },
  "language_info": {
   "codemirror_mode": {
    "name": "ipython",
    "version": 3
   },
   "file_extension": ".py",
   "mimetype": "text/x-python",
   "name": "python",
   "nbconvert_exporter": "python",
   "pygments_lexer": "ipython3",
   "version": "3.7.3"
  }
 },
 "nbformat": 4,
 "nbformat_minor": 2
}
